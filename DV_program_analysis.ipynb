{
 "cells": [
  {
   "cell_type": "code",
   "execution_count": 1,
   "metadata": {
    "collapsed": true
   },
   "outputs": [],
   "source": [
    "import pandas as pd\n",
    "import numpy as np\n",
    "np.set_printoptions(suppress=True, precision=2)\n",
    "import matplotlib.pyplot as plt\n",
    "from ipywidgets import interact, interactive, fixed, interact_manual\n",
    "import ipywidgets as widgets\n",
    "\n",
    "%matplotlib inline"
   ]
  },
  {
   "cell_type": "code",
   "execution_count": 2,
   "metadata": {},
   "outputs": [
    {
     "name": "stdout",
     "output_type": "stream",
     "text": [
      "DV_data.csv                DV_program_analysis.ipynb  README.md\r\n"
     ]
    }
   ],
   "source": [
    "ls"
   ]
  },
  {
   "cell_type": "code",
   "execution_count": 3,
   "metadata": {
    "collapsed": true
   },
   "outputs": [],
   "source": [
    "data = pd.read_csv('DV_data.csv')\n",
    "data.sort_values('City', inplace=True)"
   ]
  },
  {
   "cell_type": "code",
   "execution_count": 4,
   "metadata": {},
   "outputs": [
    {
     "data": {
      "text/html": [
       "<div>\n",
       "<table border=\"1\" class=\"dataframe\">\n",
       "  <thead>\n",
       "    <tr style=\"text-align: right;\">\n",
       "      <th></th>\n",
       "      <th>City</th>\n",
       "      <th>Agency</th>\n",
       "      <th>Language</th>\n",
       "      <th>Website</th>\n",
       "      <th>fees listed on website</th>\n",
       "      <th>Address</th>\n",
       "      <th>Lat_Long</th>\n",
       "      <th>Registration_min</th>\n",
       "      <th>Registration_max</th>\n",
       "      <th>Other_costs</th>\n",
       "      <th>Class_min</th>\n",
       "      <th>Class_max</th>\n",
       "      <th>Veterans_only</th>\n",
       "      <th>Restrictions</th>\n",
       "      <th>Data_issue</th>\n",
       "      <th>Notes</th>\n",
       "    </tr>\n",
       "  </thead>\n",
       "  <tbody>\n",
       "    <tr>\n",
       "      <th>0</th>\n",
       "      <td>Arcadia</td>\n",
       "      <td>4 Real Solutions Human Service Agency</td>\n",
       "      <td>English</td>\n",
       "      <td>no</td>\n",
       "      <td>NaN</td>\n",
       "      <td>150 N Santa Anita Ave, Arcadia, CA 91006</td>\n",
       "      <td>34.141674, -118.031171</td>\n",
       "      <td>NaN</td>\n",
       "      <td>NaN</td>\n",
       "      <td>NaN</td>\n",
       "      <td>NaN</td>\n",
       "      <td>NaN</td>\n",
       "      <td>False</td>\n",
       "      <td>NaN</td>\n",
       "      <td>Left VM 8/11</td>\n",
       "      <td>NaN</td>\n",
       "    </tr>\n",
       "    <tr>\n",
       "      <th>1</th>\n",
       "      <td>Arcadia</td>\n",
       "      <td>4 Real Solutions Human Service Agency</td>\n",
       "      <td>Spanish</td>\n",
       "      <td>no</td>\n",
       "      <td>NaN</td>\n",
       "      <td>150 N Santa Anita Ave, Arcadia, CA 91006</td>\n",
       "      <td>34.141674, -118.031171</td>\n",
       "      <td>NaN</td>\n",
       "      <td>NaN</td>\n",
       "      <td>NaN</td>\n",
       "      <td>NaN</td>\n",
       "      <td>NaN</td>\n",
       "      <td>False</td>\n",
       "      <td>NaN</td>\n",
       "      <td>Left VM 8/11</td>\n",
       "      <td>NaN</td>\n",
       "    </tr>\n",
       "    <tr>\n",
       "      <th>2</th>\n",
       "      <td>Arcadia</td>\n",
       "      <td>4 Real Solutions Human Service Agency</td>\n",
       "      <td>Chinese</td>\n",
       "      <td>no</td>\n",
       "      <td>NaN</td>\n",
       "      <td>150 N Santa Anita Ave, Arcadia, CA 91006</td>\n",
       "      <td>34.141674, -118.031171</td>\n",
       "      <td>NaN</td>\n",
       "      <td>NaN</td>\n",
       "      <td>NaN</td>\n",
       "      <td>NaN</td>\n",
       "      <td>NaN</td>\n",
       "      <td>False</td>\n",
       "      <td>NaN</td>\n",
       "      <td>Left VM 8/11</td>\n",
       "      <td>NaN</td>\n",
       "    </tr>\n",
       "    <tr>\n",
       "      <th>3</th>\n",
       "      <td>Arcadia</td>\n",
       "      <td>Win-Win Relationship Learning Center</td>\n",
       "      <td>English</td>\n",
       "      <td>no</td>\n",
       "      <td>no</td>\n",
       "      <td>66 W Duarte Rd, Arcadia, CA 91007</td>\n",
       "      <td>34.128777, -118.034497</td>\n",
       "      <td>40</td>\n",
       "      <td>40</td>\n",
       "      <td>0.0</td>\n",
       "      <td>18</td>\n",
       "      <td>20.0</td>\n",
       "      <td>False</td>\n",
       "      <td>NaN</td>\n",
       "      <td>NaN</td>\n",
       "      <td>NaN</td>\n",
       "    </tr>\n",
       "    <tr>\n",
       "      <th>4</th>\n",
       "      <td>Arcadia</td>\n",
       "      <td>Win-Win Relationship Learning Center</td>\n",
       "      <td>Chinese</td>\n",
       "      <td>no</td>\n",
       "      <td>no</td>\n",
       "      <td>66 W Duarte Rd, Arcadia, CA 91007</td>\n",
       "      <td>34.128777, -118.034497</td>\n",
       "      <td>40</td>\n",
       "      <td>40</td>\n",
       "      <td>0.0</td>\n",
       "      <td>20</td>\n",
       "      <td>30.0</td>\n",
       "      <td>False</td>\n",
       "      <td>NaN</td>\n",
       "      <td>NaN</td>\n",
       "      <td>NaN</td>\n",
       "    </tr>\n",
       "  </tbody>\n",
       "</table>\n",
       "</div>"
      ],
      "text/plain": [
       "      City                                 Agency Language Website  \\\n",
       "0  Arcadia  4 Real Solutions Human Service Agency  English      no   \n",
       "1  Arcadia  4 Real Solutions Human Service Agency  Spanish      no   \n",
       "2  Arcadia  4 Real Solutions Human Service Agency  Chinese      no   \n",
       "3  Arcadia   Win-Win Relationship Learning Center  English      no   \n",
       "4  Arcadia   Win-Win Relationship Learning Center  Chinese      no   \n",
       "\n",
       "  fees listed on website                                   Address  \\\n",
       "0                    NaN  150 N Santa Anita Ave, Arcadia, CA 91006   \n",
       "1                    NaN  150 N Santa Anita Ave, Arcadia, CA 91006   \n",
       "2                    NaN  150 N Santa Anita Ave, Arcadia, CA 91006   \n",
       "3                     no         66 W Duarte Rd, Arcadia, CA 91007   \n",
       "4                     no         66 W Duarte Rd, Arcadia, CA 91007   \n",
       "\n",
       "                 Lat_Long Registration_min Registration_max  Other_costs  \\\n",
       "0  34.141674, -118.031171              NaN              NaN          NaN   \n",
       "1  34.141674, -118.031171              NaN              NaN          NaN   \n",
       "2  34.141674, -118.031171              NaN              NaN          NaN   \n",
       "3  34.128777, -118.034497               40               40          0.0   \n",
       "4  34.128777, -118.034497               40               40          0.0   \n",
       "\n",
       "  Class_min  Class_max Veterans_only Restrictions    Data_issue Notes  \n",
       "0       NaN        NaN         False          NaN  Left VM 8/11   NaN  \n",
       "1       NaN        NaN         False          NaN  Left VM 8/11   NaN  \n",
       "2       NaN        NaN         False          NaN  Left VM 8/11   NaN  \n",
       "3        18       20.0         False          NaN           NaN   NaN  \n",
       "4        20       30.0         False          NaN           NaN   NaN  "
      ]
     },
     "execution_count": 4,
     "metadata": {},
     "output_type": "execute_result"
    }
   ],
   "source": [
    "data.head()"
   ]
  },
  {
   "cell_type": "code",
   "execution_count": 5,
   "metadata": {},
   "outputs": [],
   "source": [
    "data['Lat'] = data['Lat_Long'].str.split(',').apply(lambda x: float(x[0]))\n",
    "data['Long'] = data['Lat_Long'].str.split(',').apply(lambda x: float(x[1]))"
   ]
  },
  {
   "cell_type": "code",
   "execution_count": 6,
   "metadata": {},
   "outputs": [],
   "source": [
    "data['Registration_min'] = np.where(data['Registration_min'].str.startswith(\"?\"), np.nan, data['Registration_min'])\n",
    "data['Registration_min'] = data['Registration_min'].astype(float)\n",
    "data['Registration_max'] = np.where(data['Registration_max'].str.startswith(\"?\"), np.nan, data['Registration_max'])\n",
    "data['Registration_max'] = data['Registration_max'].astype(float)\n",
    "# data['Other_costs'] = np.where(data['Other_costs'].str.startswith(\"?\"), np.nan, data['Other_costs'])\n",
    "data['Class_min'] = np.where(data['Class_min'].str.startswith(\"?\"), np.nan, data['Class_min'])\n",
    "data['Class_min'] = data['Class_min'].astype(float)\n",
    "# data['Class_max'] = np.where(data['Class_max'].str.startswith(\"?\"), np.nan, data['Class_max'])\n"
   ]
  },
  {
   "cell_type": "code",
   "execution_count": 18,
   "metadata": {},
   "outputs": [
    {
     "name": "stdout",
     "output_type": "stream",
     "text": [
      "['English', 'Chinese', 'Spanish', 'Armenian', 'Mandarin', 'Cantonese', 'Korean', 'Farsi', 'Portuguese', 'ASL', 'Russian']\n"
     ]
    }
   ],
   "source": [
    "no_nulls = data.dropna(subset=['Class_min'])\n",
    "\n",
    "languages = no_nulls['Language'].unique().tolist()\n",
    "print(languages)"
   ]
  },
  {
   "cell_type": "code",
   "execution_count": 12,
   "metadata": {},
   "outputs": [],
   "source": [
    "num_sessions = 52\n",
    "\n",
    "# Some classes will only do the min cost of $10 for three months, have Data_issue = '10-for-3'\n",
    "data['min_total_cost'] = data['Registration_min'].astype(float) + data['Other_costs'] + \\\n",
    "    np.where(data['Data_issue'] == '10-for-3', 12*data['Class_min'] + (num_sessions - 12)*data['Class_max'], num_sessions*data['Class_min'])\n",
    "data['regular_total_cost'] = data['Registration_max'] + data['Other_costs'] + num_sessions*data['Class_max']"
   ]
  },
  {
   "cell_type": "code",
   "execution_count": null,
   "metadata": {},
   "outputs": [],
   "source": []
  },
  {
   "cell_type": "code",
   "execution_count": 25,
   "metadata": {},
   "outputs": [
    {
     "data": {
      "application/vnd.jupyter.widget-view+json": {
       "model_id": "d78703432d574617b91233979869642a",
       "version_major": 2,
       "version_minor": 0
      },
      "text/plain": [
       "A Jupyter Widget"
      ]
     },
     "metadata": {},
     "output_type": "display_data"
    },
    {
     "data": {
      "text/plain": [
       "<function __main__.get_per_city_min>"
      ]
     },
     "execution_count": 25,
     "metadata": {},
     "output_type": "execute_result"
    }
   ],
   "source": [
    "def get_per_city_min(language):\n",
    "    per_city_min = data[np.logical_and(data['Language'] == language, ~data['Veterans_only'])][\n",
    "        ['City', 'min_total_cost']].dropna().groupby('City').min()\n",
    "    print(\"Absolute minimum cost per city, no veterans programs\")\n",
    "    print(per_city_min)\n",
    "\n",
    "interact(get_per_city_min, language=languages)"
   ]
  },
  {
   "cell_type": "markdown",
   "metadata": {},
   "source": [
    "### Minimum cost of 52 week program per city, assuming client pays full cost for program"
   ]
  },
  {
   "cell_type": "code",
   "execution_count": 26,
   "metadata": {},
   "outputs": [
    {
     "data": {
      "application/vnd.jupyter.widget-view+json": {
       "model_id": "2bb26ca4f7044d46b6d4a1b4d88f7139",
       "version_major": 2,
       "version_minor": 0
      },
      "text/plain": [
       "A Jupyter Widget"
      ]
     },
     "metadata": {},
     "output_type": "display_data"
    },
    {
     "data": {
      "text/plain": [
       "<function __main__.get_per_city_reg>"
      ]
     },
     "execution_count": 26,
     "metadata": {},
     "output_type": "execute_result"
    }
   ],
   "source": [
    "def get_per_city_reg(language):\n",
    "    per_city_reg = data[np.logical_and(data['Language'] == language, ~data['Veterans_only'])][\n",
    "        ['City', 'regular_total_cost']].dropna().groupby('City').min()\n",
    "    print(\"Minimum cost per city, assuming full program cost, no veterans programs\")\n",
    "    print(per_city_reg)\n",
    "\n",
    "interact(get_per_city_reg, language=languages)"
   ]
  },
  {
   "cell_type": "markdown",
   "metadata": {},
   "source": [
    "### Average cost of a 52 week program per city. This ignores veterans programs."
   ]
  },
  {
   "cell_type": "code",
   "execution_count": 31,
   "metadata": {},
   "outputs": [
    {
     "data": {
      "application/vnd.jupyter.widget-view+json": {
       "model_id": "224540e5637141418839d47d924a0d6b",
       "version_major": 2,
       "version_minor": 0
      },
      "text/plain": [
       "A Jupyter Widget"
      ]
     },
     "metadata": {},
     "output_type": "display_data"
    },
    {
     "data": {
      "text/plain": [
       "<function __main__.get_per_city_reg>"
      ]
     },
     "execution_count": 31,
     "metadata": {},
     "output_type": "execute_result"
    }
   ],
   "source": [
    "def get_per_city_reg(language):\n",
    "    per_city_average = data[np.logical_and(data['Language'] == language, ~data['Veterans_only'])][\n",
    "        ['City', 'regular_total_cost']].dropna().groupby('City').mean().round(2)\n",
    "    print(per_city_average)\n",
    "\n",
    "interact(get_per_city_reg, language=languages)"
   ]
  },
  {
   "cell_type": "markdown",
   "metadata": {},
   "source": [
    "## Veterans programs\n",
    "\n",
    "All veterans programs are free, but for veterans only. There are only 3 veterans programs in the LA area."
   ]
  },
  {
   "cell_type": "code",
   "execution_count": 30,
   "metadata": {},
   "outputs": [
    {
     "data": {
      "text/html": [
       "<div>\n",
       "<table border=\"1\" class=\"dataframe\">\n",
       "  <thead>\n",
       "    <tr style=\"text-align: right;\">\n",
       "      <th></th>\n",
       "      <th>City</th>\n",
       "      <th>Agency</th>\n",
       "      <th>Address</th>\n",
       "    </tr>\n",
       "  </thead>\n",
       "  <tbody>\n",
       "    <tr>\n",
       "      <th>48</th>\n",
       "      <td>East Los Angeles</td>\n",
       "      <td>East LA Vet Center</td>\n",
       "      <td>5400 E Olympic Blvd, Commerce, CA 90022</td>\n",
       "    </tr>\n",
       "    <tr>\n",
       "      <th>64</th>\n",
       "      <td>Gardena</td>\n",
       "      <td>Dept of Veterans Affairs</td>\n",
       "      <td>1045 W Redondo Beach Blvd, Gardena, CA 90247</td>\n",
       "    </tr>\n",
       "    <tr>\n",
       "      <th>212</th>\n",
       "      <td>Sherman Oaks</td>\n",
       "      <td>Dept of Veteran Affairs</td>\n",
       "      <td>16111 Plummer St, North Hills, CA 91343</td>\n",
       "    </tr>\n",
       "  </tbody>\n",
       "</table>\n",
       "</div>"
      ],
      "text/plain": [
       "                 City                    Agency  \\\n",
       "48   East Los Angeles        East LA Vet Center   \n",
       "64            Gardena  Dept of Veterans Affairs   \n",
       "212      Sherman Oaks   Dept of Veteran Affairs   \n",
       "\n",
       "                                          Address  \n",
       "48        5400 E Olympic Blvd, Commerce, CA 90022  \n",
       "64   1045 W Redondo Beach Blvd, Gardena, CA 90247  \n",
       "212       16111 Plummer St, North Hills, CA 91343  "
      ]
     },
     "execution_count": 30,
     "metadata": {},
     "output_type": "execute_result"
    }
   ],
   "source": [
    "vets = data[data['Veterans_only']][['City', 'Agency', 'Address']]\n",
    "vets"
   ]
  },
  {
   "cell_type": "code",
   "execution_count": null,
   "metadata": {},
   "outputs": [],
   "source": []
  },
  {
   "cell_type": "code",
   "execution_count": null,
   "metadata": {
    "collapsed": true
   },
   "outputs": [],
   "source": []
  },
  {
   "cell_type": "code",
   "execution_count": null,
   "metadata": {},
   "outputs": [],
   "source": []
  },
  {
   "cell_type": "code",
   "execution_count": null,
   "metadata": {
    "collapsed": true
   },
   "outputs": [],
   "source": []
  }
 ],
 "metadata": {
  "kernelspec": {
   "display_name": "Python 2",
   "language": "python",
   "name": "python2"
  },
  "language_info": {
   "codemirror_mode": {
    "name": "ipython",
    "version": 2
   },
   "file_extension": ".py",
   "mimetype": "text/x-python",
   "name": "python",
   "nbconvert_exporter": "python",
   "pygments_lexer": "ipython2",
   "version": "2.7.10"
  }
 },
 "nbformat": 4,
 "nbformat_minor": 2
}
