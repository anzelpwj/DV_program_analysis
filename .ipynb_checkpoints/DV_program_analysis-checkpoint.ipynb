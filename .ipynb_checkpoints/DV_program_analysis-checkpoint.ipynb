{
 "cells": [
  {
   "cell_type": "code",
   "execution_count": 14,
   "metadata": {},
   "outputs": [],
   "source": [
    "import pandas as pd\n",
    "import numpy as np\n",
    "np.set_printoptions(suppress=True, precision=2)\n",
    "import matplotlib.pyplot as plt\n",
    "from ipywidgets import interact, interactive, fixed, interact_manual\n",
    "\n",
    "import ipywidgets as widgets\n",
    "\n",
    "%matplotlib inline"
   ]
  },
  {
   "cell_type": "code",
   "execution_count": 2,
   "metadata": {},
   "outputs": [
    {
     "name": "stdout",
     "output_type": "stream",
     "text": [
      "DV_data.csv                DV_program_analysis.ipynb  README.md\r\n"
     ]
    }
   ],
   "source": [
    "ls"
   ]
  },
  {
   "cell_type": "code",
   "execution_count": 3,
   "metadata": {
    "collapsed": true
   },
   "outputs": [],
   "source": [
    "data = pd.read_csv('DV_data.csv')\n",
    "data.sort_values('City', inplace=True)"
   ]
  },
  {
   "cell_type": "code",
   "execution_count": 4,
   "metadata": {},
   "outputs": [
    {
     "data": {
      "text/html": [
       "<div>\n",
       "<table border=\"1\" class=\"dataframe\">\n",
       "  <thead>\n",
       "    <tr style=\"text-align: right;\">\n",
       "      <th></th>\n",
       "      <th>City</th>\n",
       "      <th>Agency</th>\n",
       "      <th>Language</th>\n",
       "      <th>Website</th>\n",
       "      <th>fees listed on website</th>\n",
       "      <th>Address</th>\n",
       "      <th>Lat_Long</th>\n",
       "      <th>Registration_min</th>\n",
       "      <th>Registration_max</th>\n",
       "      <th>Other_costs</th>\n",
       "      <th>Class_min</th>\n",
       "      <th>Class_max</th>\n",
       "      <th>Veterans_only</th>\n",
       "      <th>Restrictions</th>\n",
       "      <th>Data_issue</th>\n",
       "      <th>Notes</th>\n",
       "    </tr>\n",
       "  </thead>\n",
       "  <tbody>\n",
       "    <tr>\n",
       "      <th>0</th>\n",
       "      <td>Arcadia</td>\n",
       "      <td>4 Real Solutions Human Service Agency</td>\n",
       "      <td>English</td>\n",
       "      <td>no</td>\n",
       "      <td>NaN</td>\n",
       "      <td>150 N Santa Anita Ave, Arcadia, CA 91006</td>\n",
       "      <td>34.141674, -118.031171</td>\n",
       "      <td>NaN</td>\n",
       "      <td>NaN</td>\n",
       "      <td>NaN</td>\n",
       "      <td>NaN</td>\n",
       "      <td>NaN</td>\n",
       "      <td>False</td>\n",
       "      <td>NaN</td>\n",
       "      <td>Left VM 8/11</td>\n",
       "      <td>NaN</td>\n",
       "    </tr>\n",
       "    <tr>\n",
       "      <th>1</th>\n",
       "      <td>Arcadia</td>\n",
       "      <td>4 Real Solutions Human Service Agency</td>\n",
       "      <td>Spanish</td>\n",
       "      <td>no</td>\n",
       "      <td>NaN</td>\n",
       "      <td>150 N Santa Anita Ave, Arcadia, CA 91006</td>\n",
       "      <td>34.141674, -118.031171</td>\n",
       "      <td>NaN</td>\n",
       "      <td>NaN</td>\n",
       "      <td>NaN</td>\n",
       "      <td>NaN</td>\n",
       "      <td>NaN</td>\n",
       "      <td>False</td>\n",
       "      <td>NaN</td>\n",
       "      <td>Left VM 8/11</td>\n",
       "      <td>NaN</td>\n",
       "    </tr>\n",
       "    <tr>\n",
       "      <th>2</th>\n",
       "      <td>Arcadia</td>\n",
       "      <td>4 Real Solutions Human Service Agency</td>\n",
       "      <td>Chinese</td>\n",
       "      <td>no</td>\n",
       "      <td>NaN</td>\n",
       "      <td>150 N Santa Anita Ave, Arcadia, CA 91006</td>\n",
       "      <td>34.141674, -118.031171</td>\n",
       "      <td>NaN</td>\n",
       "      <td>NaN</td>\n",
       "      <td>NaN</td>\n",
       "      <td>NaN</td>\n",
       "      <td>NaN</td>\n",
       "      <td>False</td>\n",
       "      <td>NaN</td>\n",
       "      <td>Left VM 8/11</td>\n",
       "      <td>NaN</td>\n",
       "    </tr>\n",
       "    <tr>\n",
       "      <th>3</th>\n",
       "      <td>Arcadia</td>\n",
       "      <td>Win-Win Relationship Learning Center</td>\n",
       "      <td>English</td>\n",
       "      <td>no</td>\n",
       "      <td>no</td>\n",
       "      <td>66 W Duarte Rd, Arcadia, CA 91007</td>\n",
       "      <td>34.128777, -118.034497</td>\n",
       "      <td>40</td>\n",
       "      <td>40</td>\n",
       "      <td>0.0</td>\n",
       "      <td>18</td>\n",
       "      <td>20.0</td>\n",
       "      <td>False</td>\n",
       "      <td>NaN</td>\n",
       "      <td>NaN</td>\n",
       "      <td>NaN</td>\n",
       "    </tr>\n",
       "    <tr>\n",
       "      <th>4</th>\n",
       "      <td>Arcadia</td>\n",
       "      <td>Win-Win Relationship Learning Center</td>\n",
       "      <td>Chinese</td>\n",
       "      <td>no</td>\n",
       "      <td>no</td>\n",
       "      <td>66 W Duarte Rd, Arcadia, CA 91007</td>\n",
       "      <td>34.128777, -118.034497</td>\n",
       "      <td>40</td>\n",
       "      <td>40</td>\n",
       "      <td>0.0</td>\n",
       "      <td>20</td>\n",
       "      <td>30.0</td>\n",
       "      <td>False</td>\n",
       "      <td>NaN</td>\n",
       "      <td>NaN</td>\n",
       "      <td>NaN</td>\n",
       "    </tr>\n",
       "  </tbody>\n",
       "</table>\n",
       "</div>"
      ],
      "text/plain": [
       "      City                                 Agency Language Website  \\\n",
       "0  Arcadia  4 Real Solutions Human Service Agency  English      no   \n",
       "1  Arcadia  4 Real Solutions Human Service Agency  Spanish      no   \n",
       "2  Arcadia  4 Real Solutions Human Service Agency  Chinese      no   \n",
       "3  Arcadia   Win-Win Relationship Learning Center  English      no   \n",
       "4  Arcadia   Win-Win Relationship Learning Center  Chinese      no   \n",
       "\n",
       "  fees listed on website                                   Address  \\\n",
       "0                    NaN  150 N Santa Anita Ave, Arcadia, CA 91006   \n",
       "1                    NaN  150 N Santa Anita Ave, Arcadia, CA 91006   \n",
       "2                    NaN  150 N Santa Anita Ave, Arcadia, CA 91006   \n",
       "3                     no         66 W Duarte Rd, Arcadia, CA 91007   \n",
       "4                     no         66 W Duarte Rd, Arcadia, CA 91007   \n",
       "\n",
       "                 Lat_Long Registration_min Registration_max  Other_costs  \\\n",
       "0  34.141674, -118.031171              NaN              NaN          NaN   \n",
       "1  34.141674, -118.031171              NaN              NaN          NaN   \n",
       "2  34.141674, -118.031171              NaN              NaN          NaN   \n",
       "3  34.128777, -118.034497               40               40          0.0   \n",
       "4  34.128777, -118.034497               40               40          0.0   \n",
       "\n",
       "  Class_min  Class_max Veterans_only Restrictions    Data_issue Notes  \n",
       "0       NaN        NaN         False          NaN  Left VM 8/11   NaN  \n",
       "1       NaN        NaN         False          NaN  Left VM 8/11   NaN  \n",
       "2       NaN        NaN         False          NaN  Left VM 8/11   NaN  \n",
       "3        18       20.0         False          NaN           NaN   NaN  \n",
       "4        20       30.0         False          NaN           NaN   NaN  "
      ]
     },
     "execution_count": 4,
     "metadata": {},
     "output_type": "execute_result"
    }
   ],
   "source": [
    "data.head()"
   ]
  },
  {
   "cell_type": "code",
   "execution_count": 5,
   "metadata": {},
   "outputs": [],
   "source": [
    "data['Lat'] = data['Lat_Long'].str.split(',').apply(lambda x: float(x[0]))\n",
    "data['Long'] = data['Lat_Long'].str.split(',').apply(lambda x: float(x[1]))"
   ]
  },
  {
   "cell_type": "code",
   "execution_count": 6,
   "metadata": {},
   "outputs": [],
   "source": [
    "data['Registration_min'] = np.where(data['Registration_min'].str.startswith(\"?\"), np.nan, data['Registration_min'])\n",
    "data['Registration_min'] = data['Registration_min'].astype(float)\n",
    "data['Registration_max'] = np.where(data['Registration_max'].str.startswith(\"?\"), np.nan, data['Registration_max'])\n",
    "data['Registration_max'] = data['Registration_max'].astype(float)\n",
    "# data['Other_costs'] = np.where(data['Other_costs'].str.startswith(\"?\"), np.nan, data['Other_costs'])\n",
    "data['Class_min'] = np.where(data['Class_min'].str.startswith(\"?\"), np.nan, data['Class_min'])\n",
    "data['Class_min'] = data['Class_min'].astype(float)\n",
    "# data['Class_max'] = np.where(data['Class_max'].str.startswith(\"?\"), np.nan, data['Class_max'])\n"
   ]
  },
  {
   "cell_type": "code",
   "execution_count": 7,
   "metadata": {},
   "outputs": [
    {
     "name": "stdout",
     "output_type": "stream",
     "text": [
      "['English', 'Chinese', 'Spanish', 'Armenian', 'Mandarin', 'Cantonese', 'Korean', 'Farsi', 'Portuguese', 'ASL', 'Russian']\n"
     ]
    }
   ],
   "source": [
    "no_nulls = data.dropna(subset=['Class_min'])\n",
    "\n",
    "languages = no_nulls['Language'].unique().tolist()\n",
    "print(languages)"
   ]
  },
  {
   "cell_type": "code",
   "execution_count": 8,
   "metadata": {},
   "outputs": [],
   "source": [
    "num_sessions = 52\n",
    "\n",
    "# Some classes will only do the min cost of $10 for three months, have Data_issue = '10-for-3'\n",
    "data['min_total_cost'] = data['Registration_min'].astype(float) + data['Other_costs'] + \\\n",
    "    np.where(data['Data_issue'] == '10-for-3', 12*data['Class_min'] + (num_sessions - 12)*data['Class_max'], num_sessions*data['Class_min'])\n",
    "data['regular_total_cost'] = data['Registration_max'] + data['Other_costs'] + num_sessions*data['Class_max']"
   ]
  },
  {
   "cell_type": "markdown",
   "metadata": {},
   "source": [
    "### Minimum cost of 52 week program per city, assuming client pays minimum cost per program\n",
    "\n",
    "N.B. This does not include veterans programs."
   ]
  },
  {
   "cell_type": "code",
   "execution_count": 9,
   "metadata": {},
   "outputs": [
    {
     "data": {
      "application/vnd.jupyter.widget-view+json": {
       "model_id": "e3a483fcdef340ff8cbeaed8754114a9",
       "version_major": 2,
       "version_minor": 0
      },
      "text/plain": [
       "A Jupyter Widget"
      ]
     },
     "metadata": {},
     "output_type": "display_data"
    },
    {
     "data": {
      "text/plain": [
       "<function __main__.get_per_city_min>"
      ]
     },
     "execution_count": 9,
     "metadata": {},
     "output_type": "execute_result"
    }
   ],
   "source": [
    "def get_per_city_min(language):\n",
    "    per_city_min = data[np.logical_and(data['Language'] == language, ~data['Veterans_only'])][\n",
    "        ['City', 'min_total_cost']].dropna().groupby('City').min()\n",
    "    print(per_city_min)\n",
    "\n",
    "interact(get_per_city_min, language=languages)"
   ]
  },
  {
   "cell_type": "markdown",
   "metadata": {},
   "source": [
    "### Minimum cost of 52 week program per city, assuming client pays full cost for program.\n",
    "\n",
    "N.B. This does not include veterans programs."
   ]
  },
  {
   "cell_type": "code",
   "execution_count": 10,
   "metadata": {},
   "outputs": [
    {
     "data": {
      "application/vnd.jupyter.widget-view+json": {
       "model_id": "ad94a5ed2ab948f3af950622afa82a3b",
       "version_major": 2,
       "version_minor": 0
      },
      "text/plain": [
       "A Jupyter Widget"
      ]
     },
     "metadata": {},
     "output_type": "display_data"
    },
    {
     "data": {
      "text/plain": [
       "<function __main__.get_per_city_reg>"
      ]
     },
     "execution_count": 10,
     "metadata": {},
     "output_type": "execute_result"
    }
   ],
   "source": [
    "def get_per_city_reg(language):\n",
    "    per_city_reg = data[np.logical_and(data['Language'] == language, ~data['Veterans_only'])][\n",
    "        ['City', 'regular_total_cost']].dropna().groupby('City').min()\n",
    "    print(per_city_reg)\n",
    "\n",
    "interact(get_per_city_reg, language=languages)"
   ]
  },
  {
   "cell_type": "markdown",
   "metadata": {},
   "source": [
    "### Average cost of a 52 week program per city.\n",
    "\n",
    "N.B. This does not include veterans programs."
   ]
  },
  {
   "cell_type": "code",
   "execution_count": 11,
   "metadata": {},
   "outputs": [
    {
     "data": {
      "application/vnd.jupyter.widget-view+json": {
       "model_id": "a030f20808434f07aa07f5d83703ea1b",
       "version_major": 2,
       "version_minor": 0
      },
      "text/plain": [
       "A Jupyter Widget"
      ]
     },
     "metadata": {},
     "output_type": "display_data"
    },
    {
     "data": {
      "text/plain": [
       "<function __main__.get_per_city_reg>"
      ]
     },
     "execution_count": 11,
     "metadata": {},
     "output_type": "execute_result"
    }
   ],
   "source": [
    "def get_per_city_reg(language):\n",
    "    per_city_average = data[np.logical_and(data['Language'] == language, ~data['Veterans_only'])][\n",
    "        ['City', 'regular_total_cost']].dropna().groupby('City').mean().round(2)\n",
    "    print(per_city_average)\n",
    "\n",
    "interact(get_per_city_reg, language=languages)"
   ]
  },
  {
   "cell_type": "markdown",
   "metadata": {},
   "source": [
    "## Veterans programs\n",
    "\n",
    "All veterans programs are free, but for veterans only. There are only 3 veterans programs in the LA area."
   ]
  },
  {
   "cell_type": "code",
   "execution_count": 12,
   "metadata": {},
   "outputs": [
    {
     "data": {
      "text/html": [
       "<div>\n",
       "<table border=\"1\" class=\"dataframe\">\n",
       "  <thead>\n",
       "    <tr style=\"text-align: right;\">\n",
       "      <th></th>\n",
       "      <th>City</th>\n",
       "      <th>Agency</th>\n",
       "      <th>Address</th>\n",
       "    </tr>\n",
       "  </thead>\n",
       "  <tbody>\n",
       "    <tr>\n",
       "      <th>48</th>\n",
       "      <td>East Los Angeles</td>\n",
       "      <td>East LA Vet Center</td>\n",
       "      <td>5400 E Olympic Blvd, Commerce, CA 90022</td>\n",
       "    </tr>\n",
       "    <tr>\n",
       "      <th>64</th>\n",
       "      <td>Gardena</td>\n",
       "      <td>Dept of Veterans Affairs</td>\n",
       "      <td>1045 W Redondo Beach Blvd, Gardena, CA 90247</td>\n",
       "    </tr>\n",
       "    <tr>\n",
       "      <th>212</th>\n",
       "      <td>Sherman Oaks</td>\n",
       "      <td>Dept of Veteran Affairs</td>\n",
       "      <td>16111 Plummer St, North Hills, CA 91343</td>\n",
       "    </tr>\n",
       "  </tbody>\n",
       "</table>\n",
       "</div>"
      ],
      "text/plain": [
       "                 City                    Agency  \\\n",
       "48   East Los Angeles        East LA Vet Center   \n",
       "64            Gardena  Dept of Veterans Affairs   \n",
       "212      Sherman Oaks   Dept of Veteran Affairs   \n",
       "\n",
       "                                          Address  \n",
       "48        5400 E Olympic Blvd, Commerce, CA 90022  \n",
       "64   1045 W Redondo Beach Blvd, Gardena, CA 90247  \n",
       "212       16111 Plummer St, North Hills, CA 91343  "
      ]
     },
     "execution_count": 12,
     "metadata": {},
     "output_type": "execute_result"
    }
   ],
   "source": [
    "vets = data[data['Veterans_only']][['City', 'Agency', 'Address']]\n",
    "vets"
   ]
  },
  {
   "cell_type": "code",
   "execution_count": null,
   "metadata": {},
   "outputs": [],
   "source": []
  },
  {
   "cell_type": "code",
   "execution_count": null,
   "metadata": {
    "collapsed": true
   },
   "outputs": [],
   "source": []
  },
  {
   "cell_type": "code",
   "execution_count": null,
   "metadata": {},
   "outputs": [],
   "source": []
  },
  {
   "cell_type": "code",
   "execution_count": null,
   "metadata": {
    "collapsed": true
   },
   "outputs": [],
   "source": []
  }
 ],
 "metadata": {
  "kernelspec": {
   "display_name": "Python 2",
   "language": "python",
   "name": "python2"
  },
  "language_info": {
   "codemirror_mode": {
    "name": "ipython",
    "version": 2
   },
   "file_extension": ".py",
   "mimetype": "text/x-python",
   "name": "python",
   "nbconvert_exporter": "python",
   "pygments_lexer": "ipython2",
   "version": "2.7.10"
  },
  "widgets": {
   "application/vnd.jupyter.widget-state+json": {
    "state": {
     "007eb4cb990f4aa683455ca67ecac6ce": {
      "model_module": "@jupyter-widgets/controls",
      "model_module_version": "1.0.0",
      "model_name": "DescriptionStyleModel",
      "state": {
       "description_width": ""
      }
     },
     "064e4f61d914466c801ea5a3abeedd35": {
      "model_module": "@jupyter-widgets/controls",
      "model_module_version": "1.0.0",
      "model_name": "DropdownModel",
      "state": {
       "_options_labels": [
        "English",
        "Chinese",
        "Spanish",
        "Armenian",
        "Mandarin",
        "Cantonese",
        "Korean",
        "Farsi",
        "Portuguese",
        "ASL",
        "Russian"
       ],
       "description": "language",
       "index": 0,
       "layout": "IPY_MODEL_e43e677ede5a44d2a3fc6b26134f85cb",
       "style": "IPY_MODEL_0a8df232e69f49698755acaa2b43e003"
      }
     },
     "082688c1e6854365b58dfa2530956bea": {
      "model_module": "@jupyter-widgets/base",
      "model_module_version": "1.0.0",
      "model_name": "LayoutModel",
      "state": {}
     },
     "08c12e2069fc46d5920a39e2649dd496": {
      "model_module": "@jupyter-widgets/output",
      "model_module_version": "1.0.0",
      "model_name": "OutputModel",
      "state": {
       "layout": "IPY_MODEL_d0a08f5b0ad9430faf14a599bb57a57c",
       "outputs": [
        {
         "name": "stdout",
         "output_type": "stream",
         "text": "Average cost per city, assuming full program cost\n                  regular_total_cost\nCity                                \nArcadia                      1080.00\nBell                         1345.00\nBellflower                   2695.00\nBeverly Hills                2600.00\nBurbank                      2155.00\nCanoga Park                  1200.00\nCarson                       1371.00\nCerritos                     1620.00\nChatswoth                    1590.00\nCompton                      1450.00\nCovina                       3680.00\nCulver City                  1417.00\nDiamond Bar                  1060.00\nDowney                       3430.00\nEast Los Angeles             1674.50\nEl Monte                     1797.50\nEl Segundo                   2600.00\nEncino                       1600.00\nGardena                      2030.00\nGlendale                     1585.00\nGlendora                     1300.00\nHollywood                    1330.00\nHuntington Park              1240.00\nInglewood                    4391.67\nLa Mirada                    1340.00\nLa Puente                    1650.00\nLakewood                     1930.00\nLancaster                    1350.00\nLawndale                     2702.00\nLomita                       2390.00\nLong Beach                   1779.17\nLos Angeles                  1877.70\nMission Hills                1350.00\nMonrovia                     5230.00\nMontebello                   2471.67\nNorth Hills                  1040.00\nNorth Hollywood              1155.00\nNorwalk                      2120.00\nPacoima                      1182.50\nPalmdale                     1345.00\nPanorama City                1060.00\nPasadena                     1350.00\nPico Rivera                  1115.00\nPomona                       1197.50\nSan Fernando                 1467.50\nSan Pedro                    1497.50\nSanta Clarita                1852.50\nSanta Fe Springs             1467.50\nSherman Oaks                 1605.00\nSouth Gate                   1060.00\nSunland                      1600.00\nSylmar                        790.00\nTarzana                      1350.00\nTorrance                     1972.50\nVan Nuys                      977.50\nWest Covina                  1931.67\nWest Hollywood               2770.83\nWhittier                     1320.00\nWilmington                   2600.00\nWoodland Hills               1300.00\n"
        }
       ]
      }
     },
     "0a8df232e69f49698755acaa2b43e003": {
      "model_module": "@jupyter-widgets/controls",
      "model_module_version": "1.0.0",
      "model_name": "DescriptionStyleModel",
      "state": {
       "description_width": ""
      }
     },
     "0b0dbeac663543acafb294e3cce98b50": {
      "model_module": "@jupyter-widgets/controls",
      "model_module_version": "1.0.0",
      "model_name": "DescriptionStyleModel",
      "state": {
       "description_width": ""
      }
     },
     "0c063e95b1c744799aeb1f8518c66045": {
      "model_module": "@jupyter-widgets/base",
      "model_module_version": "1.0.0",
      "model_name": "LayoutModel",
      "state": {}
     },
     "11c8bf1e04174add8d0f7e93ee00f714": {
      "model_module": "@jupyter-widgets/base",
      "model_module_version": "1.0.0",
      "model_name": "LayoutModel",
      "state": {}
     },
     "13b43e30cb6549e683105e8486916a0a": {
      "model_module": "@jupyter-widgets/controls",
      "model_module_version": "1.0.0",
      "model_name": "VBoxModel",
      "state": {
       "_dom_classes": [
        "widget-interact"
       ],
       "children": [
        "IPY_MODEL_689ddeafee30468ea52b54e6c897c795",
        "IPY_MODEL_98776ac562144c30b6dd34320481445f"
       ],
       "layout": "IPY_MODEL_443436e3fbe34271b2c79f9f7082ed38"
      }
     },
     "15ea2887e5ae4fb98489eb07111725e4": {
      "model_module": "@jupyter-widgets/base",
      "model_module_version": "1.0.0",
      "model_name": "LayoutModel",
      "state": {}
     },
     "164d01a6180341b5a0a72f10484df0f3": {
      "model_module": "@jupyter-widgets/controls",
      "model_module_version": "1.0.0",
      "model_name": "DescriptionStyleModel",
      "state": {
       "description_width": ""
      }
     },
     "183171b716b24613a999a876a6ac5394": {
      "model_module": "@jupyter-widgets/base",
      "model_module_version": "1.0.0",
      "model_name": "LayoutModel",
      "state": {}
     },
     "1a48b534fced43578fd6335b58f5b557": {
      "model_module": "@jupyter-widgets/base",
      "model_module_version": "1.0.0",
      "model_name": "LayoutModel",
      "state": {}
     },
     "1ffdcbbda1b3434d851a5d4af0c7807d": {
      "model_module": "@jupyter-widgets/controls",
      "model_module_version": "1.0.0",
      "model_name": "DescriptionStyleModel",
      "state": {
       "description_width": ""
      }
     },
     "2174465c4bfc44999a01800a4a81edbd": {
      "model_module": "@jupyter-widgets/output",
      "model_module_version": "1.0.0",
      "model_name": "OutputModel",
      "state": {
       "layout": "IPY_MODEL_ad8a46b9f25c4472b061206f16704a77",
       "outputs": [
        {
         "name": "stdout",
         "output_type": "stream",
         "text": "             min_total_cost\nCity                       \nCovina               1350.0\nLos Angeles            35.0\n"
        }
       ]
      }
     },
     "222d4b6b3fa845729880b62dfc18e7ab": {
      "model_module": "@jupyter-widgets/output",
      "model_module_version": "1.0.0",
      "model_name": "OutputModel",
      "state": {
       "layout": "IPY_MODEL_a82e8cf80f7e48fca952c3754d9a444b",
       "outputs": [
        {
         "name": "stdout",
         "output_type": "stream",
         "text": "Average cost per city, assuming full program cost\n                  regular_total_cost\nCity                                \nArcadia                  1080.000000\nBell                     1345.000000\nBellflower               2695.000000\nBeverly Hills            2600.000000\nBurbank                  2155.000000\nCanoga Park              1200.000000\nCarson                   1371.000000\nCerritos                 1620.000000\nChatswoth                1590.000000\nCompton                  1450.000000\nCovina                   3680.000000\nCulver City              1417.000000\nDiamond Bar              1060.000000\nDowney                   3430.000000\nEast Los Angeles         1674.500000\nEl Monte                 1797.500000\nEl Segundo               2600.000000\nEncino                   1600.000000\nGardena                  2030.000000\nGlendale                 1585.000000\nGlendora                 1300.000000\nHollywood                1330.000000\nHuntington Park          1240.000000\nInglewood                4391.666667\nLa Mirada                1340.000000\nLa Puente                1650.000000\nLakewood                 1930.000000\nLancaster                1350.000000\nLawndale                 2702.000000\nLomita                   2390.000000\nLong Beach               1779.166667\nLos Angeles              1877.700000\nMission Hills            1350.000000\nMonrovia                 5230.000000\nMontebello               2471.666667\nNorth Hills              1040.000000\nNorth Hollywood          1155.000000\nNorwalk                  2120.000000\nPacoima                  1182.500000\nPalmdale                 1345.000000\nPanorama City            1060.000000\nPasadena                 1350.000000\nPico Rivera              1115.000000\nPomona                   1197.500000\nSan Fernando             1467.500000\nSan Pedro                1497.500000\nSanta Clarita            1852.500000\nSanta Fe Springs         1467.500000\nSherman Oaks             1605.000000\nSouth Gate               1060.000000\nSunland                  1600.000000\nSylmar                    790.000000\nTarzana                  1350.000000\nTorrance                 1972.500000\nVan Nuys                  977.500000\nWest Covina              1931.666667\nWest Hollywood           2770.833333\nWhittier                 1320.000000\nWilmington               2600.000000\nWoodland Hills           1300.000000\n"
        }
       ]
      }
     },
     "224540e5637141418839d47d924a0d6b": {
      "model_module": "@jupyter-widgets/controls",
      "model_module_version": "1.0.0",
      "model_name": "VBoxModel",
      "state": {
       "_dom_classes": [
        "widget-interact"
       ],
       "children": [
        "IPY_MODEL_f8b9fec888624e1bb810e54f0d2b8ce4",
        "IPY_MODEL_873d684eeb9b4c7dae10e0b380ca7e03"
       ],
       "layout": "IPY_MODEL_a74eb99025e64cedb1608ad56d308d9b"
      }
     },
     "2bb26ca4f7044d46b6d4a1b4d88f7139": {
      "model_module": "@jupyter-widgets/controls",
      "model_module_version": "1.0.0",
      "model_name": "VBoxModel",
      "state": {
       "_dom_classes": [
        "widget-interact"
       ],
       "children": [
        "IPY_MODEL_bc227c59789c42e5a1217af1e557c891",
        "IPY_MODEL_a54955b98e0f4d8a84a1026e520aaec6"
       ],
       "layout": "IPY_MODEL_7e5d9b688d73451d99784c6e7fdf9b1b"
      }
     },
     "2c20dd23edd24ef7a150bd8722a8ce5b": {
      "model_module": "@jupyter-widgets/controls",
      "model_module_version": "1.0.0",
      "model_name": "DescriptionStyleModel",
      "state": {
       "description_width": ""
      }
     },
     "33bc089c6f254bd6845b92f5691bde2c": {
      "model_module": "@jupyter-widgets/base",
      "model_module_version": "1.0.0",
      "model_name": "LayoutModel",
      "state": {}
     },
     "36f9cb346be54ab9b63c5c6fa14c008b": {
      "model_module": "@jupyter-widgets/base",
      "model_module_version": "1.0.0",
      "model_name": "LayoutModel",
      "state": {}
     },
     "3a3c39610d494704a6165a4aa3046365": {
      "model_module": "@jupyter-widgets/base",
      "model_module_version": "1.0.0",
      "model_name": "LayoutModel",
      "state": {}
     },
     "3c514b5827ea4a058193efc647e1b9ea": {
      "model_module": "@jupyter-widgets/output",
      "model_module_version": "1.0.0",
      "model_name": "OutputModel",
      "state": {
       "layout": "IPY_MODEL_36f9cb346be54ab9b63c5c6fa14c008b",
       "outputs": [
        {
         "name": "stdout",
         "output_type": "stream",
         "text": "Minimum cost per city, assuming full program cost\n                  regular_total_cost\nCity                                \nBell                          1345.0\nBurbank                       2155.0\nCanoga Park                   1340.0\nCarson                        1350.0\nCerritos                      1620.0\nCulver City                   1350.0\nEast Los Angeles              1375.0\nEl Monte                      1090.0\nEncino                        1600.0\nGardena                       1375.0\nGlendora                      1300.0\nHollywood                     1330.0\nHuntington Park               1070.0\nInglewood                     7825.0\nLa Puente                     1650.0\nLancaster                     1340.0\nLawndale                      2702.0\nLong Beach                    1350.0\nLos Angeles                   1350.0\nMission Hills                 1350.0\nMonrovia                      5230.0\nMontebello                    1605.0\nNorth Hollywood               1325.0\nNorwalk                       2900.0\nPacoima                       1040.0\nPalmdale                      1340.0\nPanorama City                 1060.0\nPasadena                      1350.0\nPico Rivera                   1115.0\nPomona                        1065.0\nSan Fernando                  1345.0\nSan Pedro                     1375.0\nSanta Clarita                 1820.0\nSanta Fe Springs              1335.0\nSherman Oaks                  1600.0\nSouth Gate                    1060.0\nSunland                       1600.0\nSylmar                         540.0\nVan Nuys                      1340.0\nWest Covina                   1325.0\nWest Hollywood                3442.5\nWhittier                      1300.0\nWilmington                    2600.0\n"
        }
       ]
      }
     },
     "3f12a430ad1148ca8b84949f8d532576": {
      "model_module": "@jupyter-widgets/base",
      "model_module_version": "1.0.0",
      "model_name": "LayoutModel",
      "state": {}
     },
     "3fc6909ed54145399e6e9c6192a7d353": {
      "model_module": "@jupyter-widgets/base",
      "model_module_version": "1.0.0",
      "model_name": "LayoutModel",
      "state": {}
     },
     "443436e3fbe34271b2c79f9f7082ed38": {
      "model_module": "@jupyter-widgets/base",
      "model_module_version": "1.0.0",
      "model_name": "LayoutModel",
      "state": {}
     },
     "44349054b9d0434c9854b53480e0844e": {
      "model_module": "@jupyter-widgets/controls",
      "model_module_version": "1.0.0",
      "model_name": "DescriptionStyleModel",
      "state": {
       "description_width": ""
      }
     },
     "466a74bbd70f4d38bb00ee57f12eb711": {
      "model_module": "@jupyter-widgets/controls",
      "model_module_version": "1.0.0",
      "model_name": "DescriptionStyleModel",
      "state": {
       "description_width": ""
      }
     },
     "4a210db476af4f43b53c8c478ed5f5de": {
      "model_module": "@jupyter-widgets/controls",
      "model_module_version": "1.0.0",
      "model_name": "DescriptionStyleModel",
      "state": {
       "description_width": ""
      }
     },
     "5036f9e756014868ad25b533d27445b6": {
      "model_module": "@jupyter-widgets/controls",
      "model_module_version": "1.0.0",
      "model_name": "DescriptionStyleModel",
      "state": {
       "description_width": ""
      }
     },
     "52a9a0c8d8264e8ab658871eb6957239": {
      "model_module": "@jupyter-widgets/controls",
      "model_module_version": "1.0.0",
      "model_name": "VBoxModel",
      "state": {
       "_dom_classes": [
        "widget-interact"
       ],
       "children": [
        "IPY_MODEL_d1d8e6776d9445beb8317911ae63f9fa",
        "IPY_MODEL_a4ac220bf41a4f19957cf54c08217c9c"
       ],
       "layout": "IPY_MODEL_a04bd0abe54e4ffabd1601c2ebf1626b"
      }
     },
     "5686714cde194f389f2d7ee7814f9c92": {
      "model_module": "@jupyter-widgets/output",
      "model_module_version": "1.0.0",
      "model_name": "OutputModel",
      "state": {
       "layout": "IPY_MODEL_11c8bf1e04174add8d0f7e93ee00f714",
       "outputs": [
        {
         "name": "stdout",
         "output_type": "stream",
         "text": "                  min_total_cost\nCity                            \nArcadia                    976.0\nBell                      1085.0\nBellflower                1395.0\nBeverly Hills             2496.0\nBurbank                    335.0\nCanoga Park                820.0\nCarson                     820.0\nCerritos                  1100.0\nChatswoth                 1070.0\nCompton                   1450.0\nCovina                    1330.0\nCulver City               1350.0\nDiamond Bar                800.0\nDowney                     310.0\nEast Los Angeles          1038.0\nEl Monte                   870.0\nEl Segundo                1300.0\nEncino                    1080.0\nGardena                    335.0\nGlendale                   545.0\nGlendora                  1300.0\nHollywood                  550.0\nHuntington Park            570.0\nInglewood                  880.0\nLa Mirada                  820.0\nLa Puente                 1130.0\nLakewood                  1410.0\nLancaster                  810.0\nLawndale                  1402.0\nLomita                    1870.0\nLong Beach                 468.0\nLos Angeles                285.0\nMission Hills              830.0\nMonrovia                  1330.0\nMontebello                1085.0\nNorth Hills                520.0\nNorth Hollywood            950.0\nNorwalk                    820.0\nPacoima                    260.0\nPalmdale                   830.0\nPanorama City              780.0\nPasadena                   810.0\nPico Rivera                280.0\nPomona                     810.0\nSan Fernando              1345.0\nSan Pedro                 1100.0\nSanta Clarita             1820.0\nSanta Fe Springs           815.0\nSherman Oaks              1080.0\nSouth Gate                1060.0\nSunland                   1080.0\nSylmar                     260.0\nTarzana                   1350.0\nTorrance                  1300.0\nVan Nuys                   540.0\nWest Covina                805.0\nWest Hollywood            2435.0\nWhittier                  1080.0\nWilmington                1560.0\nWoodland Hills            1300.0\n"
        }
       ]
      }
     },
     "569b4550a2b7491daf3769895c5b7bbc": {
      "model_module": "@jupyter-widgets/base",
      "model_module_version": "1.0.0",
      "model_name": "LayoutModel",
      "state": {}
     },
     "57f3c9dd5b644f01a26709bdb75b8b42": {
      "model_module": "@jupyter-widgets/base",
      "model_module_version": "1.0.0",
      "model_name": "LayoutModel",
      "state": {}
     },
     "5c062bf6a91f4fcdbdc55cc9c53475ec": {
      "model_module": "@jupyter-widgets/base",
      "model_module_version": "1.0.0",
      "model_name": "LayoutModel",
      "state": {}
     },
     "5db48d65259c4ee0ae438c6cb434e954": {
      "model_module": "@jupyter-widgets/controls",
      "model_module_version": "1.0.0",
      "model_name": "DropdownModel",
      "state": {
       "_options_labels": [
        "English",
        "Chinese",
        "Spanish",
        "Armenian",
        "Mandarin",
        "Cantonese",
        "Korean",
        "Farsi",
        "Portuguese",
        "ASL",
        "Russian"
       ],
       "description": "language",
       "index": 2,
       "layout": "IPY_MODEL_f3bd1c65a0e7474aaf17c6d3bf4e4014",
       "style": "IPY_MODEL_f19f844c6e0b48a8b0dd177c27dad446"
      }
     },
     "5ed27b6c81d649efabd17b635a938f6c": {
      "model_module": "@jupyter-widgets/base",
      "model_module_version": "1.0.0",
      "model_name": "LayoutModel",
      "state": {}
     },
     "5fd66eadcb38475f8c7a99aae04f4d96": {
      "model_module": "@jupyter-widgets/base",
      "model_module_version": "1.0.0",
      "model_name": "LayoutModel",
      "state": {}
     },
     "609e52d6ddc14671a0cd4ab4424ae931": {
      "model_module": "@jupyter-widgets/controls",
      "model_module_version": "1.0.0",
      "model_name": "DropdownModel",
      "state": {
       "_options_labels": [
        "English",
        "Chinese",
        "Spanish",
        "Armenian",
        "Mandarin",
        "Cantonese",
        "Korean",
        "Farsi",
        "Portuguese",
        "ASL",
        "Russian"
       ],
       "description": "language",
       "index": 0,
       "layout": "IPY_MODEL_b7d08a64c562409ebff772a8bb05b61e",
       "style": "IPY_MODEL_5036f9e756014868ad25b533d27445b6"
      }
     },
     "61c545ec22cc495ea0cbe0d5bf62abfc": {
      "model_module": "@jupyter-widgets/base",
      "model_module_version": "1.0.0",
      "model_name": "LayoutModel",
      "state": {}
     },
     "629c6b15b52e4e32b3f10c7d51707b4b": {
      "model_module": "@jupyter-widgets/output",
      "model_module_version": "1.0.0",
      "model_name": "OutputModel",
      "state": {
       "layout": "IPY_MODEL_f8c18753a1ab4359b2f19f336b8715d8",
       "outputs": [
        {
         "name": "stdout",
         "output_type": "stream",
         "text": "                  regular_total_cost\nCity                                \nArcadia                       1080.0\nBell                          1345.0\nBellflower                    2695.0\nBeverly Hills                 2600.0\nBurbank                       2155.0\nCanoga Park                   1060.0\nCarson                        1350.0\nCerritos                      1620.0\nChatswoth                     1590.0\nCompton                       1450.0\nCovina                        2130.0\nCulver City                   1350.0\nDiamond Bar                   1060.0\nDowney                        3430.0\nEast Los Angeles              1375.0\nEl Monte                      1300.0\nEl Segundo                    2600.0\nEncino                        1600.0\nGardena                       1375.0\nGlendale                      1325.0\nGlendora                      1300.0\nHollywood                     1330.0\nHuntington Park               1070.0\nInglewood                     1400.0\nLa Mirada                     1340.0\nLa Puente                     1650.0\nLakewood                      1930.0\nLancaster                     1340.0\nLawndale                      2702.0\nLomita                        2390.0\nLong Beach                    1350.0\nLos Angeles                    545.0\nMission Hills                 1350.0\nMonrovia                      5230.0\nMontebello                    1605.0\nNorth Hills                   1040.0\nNorth Hollywood               1070.0\nNorwalk                       1340.0\nPacoima                       1040.0\nPalmdale                      1340.0\nPanorama City                 1060.0\nPasadena                      1350.0\nPico Rivera                   1115.0\nPomona                        1065.0\nSan Fernando                  1345.0\nSan Pedro                     1375.0\nSanta Clarita                 1820.0\nSanta Fe Springs              1335.0\nSherman Oaks                  1600.0\nSouth Gate                    1060.0\nSunland                       1600.0\nSylmar                         540.0\nTarzana                       1350.0\nTorrance                      1345.0\nVan Nuys                       540.0\nWest Covina                   1325.0\nWest Hollywood                2435.0\nWhittier                      1300.0\nWilmington                    2600.0\nWoodland Hills                1300.0\n"
        }
       ]
      }
     },
     "662ddf1668de46f0998503daca636d0b": {
      "model_module": "@jupyter-widgets/controls",
      "model_module_version": "1.0.0",
      "model_name": "VBoxModel",
      "state": {
       "_dom_classes": [
        "widget-interact"
       ],
       "children": [
        "IPY_MODEL_609e52d6ddc14671a0cd4ab4424ae931",
        "IPY_MODEL_08c12e2069fc46d5920a39e2649dd496"
       ],
       "layout": "IPY_MODEL_61c545ec22cc495ea0cbe0d5bf62abfc"
      }
     },
     "689ddeafee30468ea52b54e6c897c795": {
      "model_module": "@jupyter-widgets/controls",
      "model_module_version": "1.0.0",
      "model_name": "DropdownModel",
      "state": {
       "_options_labels": [
        "English",
        "Chinese",
        "Spanish",
        "Armenian",
        "Mandarin",
        "Cantonese",
        "Korean",
        "Farsi",
        "Portuguese",
        "ASL",
        "Russian"
       ],
       "description": "language",
       "index": 0,
       "layout": "IPY_MODEL_6f732e751cb84676af664561bacc5df9",
       "style": "IPY_MODEL_8e62076853134aa591ae597955828888"
      }
     },
     "68c1db5246294cd6b4f58807a50b59f0": {
      "model_module": "@jupyter-widgets/controls",
      "model_module_version": "1.0.0",
      "model_name": "DescriptionStyleModel",
      "state": {
       "description_width": ""
      }
     },
     "6f732e751cb84676af664561bacc5df9": {
      "model_module": "@jupyter-widgets/base",
      "model_module_version": "1.0.0",
      "model_name": "LayoutModel",
      "state": {}
     },
     "70b7722ac8d74597bd476da9373ff643": {
      "model_module": "@jupyter-widgets/base",
      "model_module_version": "1.0.0",
      "model_name": "LayoutModel",
      "state": {}
     },
     "7a70730f484943ab86848d077e0b7763": {
      "model_module": "@jupyter-widgets/controls",
      "model_module_version": "1.0.0",
      "model_name": "DropdownModel",
      "state": {
       "_options_labels": [
        "English",
        "Chinese",
        "Spanish",
        "Armenian",
        "Mandarin",
        "Cantonese",
        "Korean",
        "Farsi",
        "Portuguese",
        "ASL",
        "Russian"
       ],
       "description": "language",
       "index": 0,
       "layout": "IPY_MODEL_92eac1023f6f448eba420198036495d6",
       "style": "IPY_MODEL_164d01a6180341b5a0a72f10484df0f3"
      }
     },
     "7e5d9b688d73451d99784c6e7fdf9b1b": {
      "model_module": "@jupyter-widgets/base",
      "model_module_version": "1.0.0",
      "model_name": "LayoutModel",
      "state": {}
     },
     "7f11744ca74b477291af5cb90cdc4f1c": {
      "model_module": "@jupyter-widgets/controls",
      "model_module_version": "1.0.0",
      "model_name": "DropdownModel",
      "state": {
       "_options_labels": [
        "English",
        "Chinese",
        "Spanish",
        "Armenian",
        "Mandarin",
        "Cantonese",
        "Korean",
        "Farsi",
        "Portuguese",
        "ASL",
        "Russian"
       ],
       "description": "language",
       "index": 0,
       "layout": "IPY_MODEL_d937274701dd40e5abcad46fe85fb62c",
       "style": "IPY_MODEL_44349054b9d0434c9854b53480e0844e"
      }
     },
     "7f1eaecb568a4d6e8f93f9994127e58f": {
      "model_module": "@jupyter-widgets/base",
      "model_module_version": "1.0.0",
      "model_name": "LayoutModel",
      "state": {}
     },
     "7fa94bb5d69145b1ac07a99e18ca9b10": {
      "model_module": "@jupyter-widgets/base",
      "model_module_version": "1.0.0",
      "model_name": "LayoutModel",
      "state": {}
     },
     "86f626568abe4359849d6427d24d9f11": {
      "model_module": "@jupyter-widgets/controls",
      "model_module_version": "1.0.0",
      "model_name": "VBoxModel",
      "state": {
       "_dom_classes": [
        "widget-interact"
       ],
       "children": [
        "IPY_MODEL_9c3ce19cf8b24dbd91aaff9176332b4b",
        "IPY_MODEL_984260ebb4124d9ca58655ee75ef4a1e"
       ],
       "layout": "IPY_MODEL_33bc089c6f254bd6845b92f5691bde2c"
      }
     },
     "873d684eeb9b4c7dae10e0b380ca7e03": {
      "model_module": "@jupyter-widgets/output",
      "model_module_version": "1.0.0",
      "model_name": "OutputModel",
      "state": {
       "layout": "IPY_MODEL_70b7722ac8d74597bd476da9373ff643",
       "outputs": [
        {
         "name": "stdout",
         "output_type": "stream",
         "text": "                  regular_total_cost\nCity                                \nArcadia                      1080.00\nBell                         1345.00\nBellflower                   2695.00\nBeverly Hills                2600.00\nBurbank                      2155.00\nCanoga Park                  1200.00\nCarson                       1371.00\nCerritos                     1620.00\nChatswoth                    1590.00\nCompton                      1450.00\nCovina                       3680.00\nCulver City                  1417.00\nDiamond Bar                  1060.00\nDowney                       3430.00\nEast Los Angeles             1674.50\nEl Monte                     1797.50\nEl Segundo                   2600.00\nEncino                       1600.00\nGardena                      2030.00\nGlendale                     1585.00\nGlendora                     1300.00\nHollywood                    1330.00\nHuntington Park              1240.00\nInglewood                    4391.67\nLa Mirada                    1340.00\nLa Puente                    1650.00\nLakewood                     1930.00\nLancaster                    1350.00\nLawndale                     2702.00\nLomita                       2390.00\nLong Beach                   1779.17\nLos Angeles                  1877.70\nMission Hills                1350.00\nMonrovia                     5230.00\nMontebello                   2471.67\nNorth Hills                  1040.00\nNorth Hollywood              1155.00\nNorwalk                      2120.00\nPacoima                      1182.50\nPalmdale                     1345.00\nPanorama City                1060.00\nPasadena                     1350.00\nPico Rivera                  1115.00\nPomona                       1197.50\nSan Fernando                 1467.50\nSan Pedro                    1497.50\nSanta Clarita                1852.50\nSanta Fe Springs             1467.50\nSherman Oaks                 1605.00\nSouth Gate                   1060.00\nSunland                      1600.00\nSylmar                        790.00\nTarzana                      1350.00\nTorrance                     1972.50\nVan Nuys                      977.50\nWest Covina                  1931.67\nWest Hollywood               2770.83\nWhittier                     1320.00\nWilmington                   2600.00\nWoodland Hills               1300.00\n"
        }
       ]
      }
     },
     "88ade7ed57c140158ffdf33e6f154563": {
      "model_module": "@jupyter-widgets/controls",
      "model_module_version": "1.0.0",
      "model_name": "DropdownModel",
      "state": {
       "_options_labels": [
        "English",
        "Chinese",
        "Spanish",
        "Armenian",
        "Mandarin",
        "Cantonese",
        "Korean",
        "Farsi",
        "Portuguese",
        "ASL",
        "Russian"
       ],
       "description": "language",
       "index": 0,
       "layout": "IPY_MODEL_082688c1e6854365b58dfa2530956bea",
       "style": "IPY_MODEL_68c1db5246294cd6b4f58807a50b59f0"
      }
     },
     "8b40fbad4a97431cbca0110ac50f00c4": {
      "model_module": "@jupyter-widgets/base",
      "model_module_version": "1.0.0",
      "model_name": "LayoutModel",
      "state": {}
     },
     "8c2453555a384eb690c2dff0dc263e98": {
      "model_module": "@jupyter-widgets/base",
      "model_module_version": "1.0.0",
      "model_name": "LayoutModel",
      "state": {}
     },
     "8e62076853134aa591ae597955828888": {
      "model_module": "@jupyter-widgets/controls",
      "model_module_version": "1.0.0",
      "model_name": "DescriptionStyleModel",
      "state": {
       "description_width": ""
      }
     },
     "92eac1023f6f448eba420198036495d6": {
      "model_module": "@jupyter-widgets/base",
      "model_module_version": "1.0.0",
      "model_name": "LayoutModel",
      "state": {}
     },
     "952c0ab2797b4eb4853b4a0ad26e750e": {
      "model_module": "@jupyter-widgets/controls",
      "model_module_version": "1.0.0",
      "model_name": "VBoxModel",
      "state": {
       "_dom_classes": [
        "widget-interact"
       ],
       "children": [
        "IPY_MODEL_5db48d65259c4ee0ae438c6cb434e954",
        "IPY_MODEL_dc974d833d004b209320a97e294bf7ba"
       ],
       "layout": "IPY_MODEL_8c2453555a384eb690c2dff0dc263e98"
      }
     },
     "984260ebb4124d9ca58655ee75ef4a1e": {
      "model_module": "@jupyter-widgets/output",
      "model_module_version": "1.0.0",
      "model_name": "OutputModel",
      "state": {
       "layout": "IPY_MODEL_15ea2887e5ae4fb98489eb07111725e4",
       "outputs": [
        {
         "name": "stdout",
         "output_type": "stream",
         "text": "Empty DataFrame\nColumns: [min_total_cost]\nIndex: []\n"
        }
       ]
      }
     },
     "98776ac562144c30b6dd34320481445f": {
      "model_module": "@jupyter-widgets/output",
      "model_module_version": "1.0.0",
      "model_name": "OutputModel",
      "state": {
       "layout": "IPY_MODEL_c3772f790ee044deb3f63e564f9b0a05",
       "outputs": [
        {
         "name": "stdout",
         "output_type": "stream",
         "text": "                  regular_total_cost\nCity                                \nArcadia                       1080.0\nBell                          1345.0\nBellflower                    2695.0\nBeverly Hills                 2600.0\nBurbank                       2155.0\nCanoga Park                   1060.0\nCarson                        1350.0\nCerritos                      1620.0\nChatswoth                     1590.0\nCompton                       1450.0\nCovina                        2130.0\nCulver City                   1350.0\nDiamond Bar                   1060.0\nDowney                        3430.0\nEast Los Angeles              1375.0\nEl Monte                      1300.0\nEl Segundo                    2600.0\nEncino                        1600.0\nGardena                       1375.0\nGlendale                      1325.0\nGlendora                      1300.0\nHollywood                     1330.0\nHuntington Park               1070.0\nInglewood                     1400.0\nLa Mirada                     1340.0\nLa Puente                     1650.0\nLakewood                      1930.0\nLancaster                     1340.0\nLawndale                      2702.0\nLomita                        2390.0\nLong Beach                    1350.0\nLos Angeles                    545.0\nMission Hills                 1350.0\nMonrovia                      5230.0\nMontebello                    1605.0\nNorth Hills                   1040.0\nNorth Hollywood               1070.0\nNorwalk                       1340.0\nPacoima                       1040.0\nPalmdale                      1340.0\nPanorama City                 1060.0\nPasadena                      1350.0\nPico Rivera                   1115.0\nPomona                        1065.0\nSan Fernando                  1345.0\nSan Pedro                     1375.0\nSanta Clarita                 1820.0\nSanta Fe Springs              1335.0\nSherman Oaks                  1600.0\nSouth Gate                    1060.0\nSunland                       1600.0\nSylmar                         540.0\nTarzana                       1350.0\nTorrance                      1345.0\nVan Nuys                       540.0\nWest Covina                   1325.0\nWest Hollywood                2435.0\nWhittier                      1300.0\nWilmington                    2600.0\nWoodland Hills                1300.0\n"
        }
       ]
      }
     },
     "9b98580db9f24919baf2ad3b2902302f": {
      "model_module": "@jupyter-widgets/base",
      "model_module_version": "1.0.0",
      "model_name": "LayoutModel",
      "state": {}
     },
     "9c3ce19cf8b24dbd91aaff9176332b4b": {
      "model_module": "@jupyter-widgets/controls",
      "model_module_version": "1.0.0",
      "model_name": "DropdownModel",
      "state": {
       "_options_labels": [
        "English",
        "Spanish",
        "Chinese",
        "Armenian",
        "Mandarin",
        "Cantonese",
        "Korean",
        "Farsi",
        "Russian",
        "Vietnamese",
        "Cambodian",
        "Tagalog",
        "Portuguese",
        "Urdu",
        "Punjabi",
        "Hindu",
        "ASL"
       ],
       "description": "language",
       "index": 13,
       "layout": "IPY_MODEL_d8b0e0c901824f159dbc805e67e677ab",
       "style": "IPY_MODEL_4a210db476af4f43b53c8c478ed5f5de"
      }
     },
     "9d0108a7f8b847d0b84360083e67863c": {
      "model_module": "@jupyter-widgets/controls",
      "model_module_version": "1.0.0",
      "model_name": "VBoxModel",
      "state": {
       "_dom_classes": [
        "widget-interact"
       ],
       "children": [
        "IPY_MODEL_e0720192733148508b48181d48ed6dcb",
        "IPY_MODEL_bd00405a5a5841588aef4b3af47f0308"
       ],
       "layout": "IPY_MODEL_0c063e95b1c744799aeb1f8518c66045"
      }
     },
     "a030f20808434f07aa07f5d83703ea1b": {
      "model_module": "@jupyter-widgets/controls",
      "model_module_version": "1.0.0",
      "model_name": "VBoxModel",
      "state": {
       "_dom_classes": [
        "widget-interact"
       ],
       "children": [
        "IPY_MODEL_88ade7ed57c140158ffdf33e6f154563",
        "IPY_MODEL_d7343b233db4470d88415da54fea08a1"
       ],
       "layout": "IPY_MODEL_e96c722264b346c58d79a39e97a7de75"
      }
     },
     "a04bd0abe54e4ffabd1601c2ebf1626b": {
      "model_module": "@jupyter-widgets/base",
      "model_module_version": "1.0.0",
      "model_name": "LayoutModel",
      "state": {}
     },
     "a4ac220bf41a4f19957cf54c08217c9c": {
      "model_module": "@jupyter-widgets/output",
      "model_module_version": "1.0.0",
      "model_name": "OutputModel",
      "state": {
       "layout": "IPY_MODEL_3fc6909ed54145399e6e9c6192a7d353",
       "outputs": [
        {
         "name": "stdout",
         "output_type": "stream",
         "text": "Minimum cost per program\n                  min_total_cost\nCity                            \nArcadia                    976.0\nBell                      1085.0\nBellflower                1395.0\nBeverly Hills             2496.0\nBurbank                    335.0\nCanoga Park                820.0\nCarson                     820.0\nCerritos                  1100.0\nChatswoth                 1070.0\nCompton                   1450.0\nCovina                    1330.0\nCulver City               1350.0\nDiamond Bar                800.0\nDowney                     310.0\nEast Los Angeles          1038.0\nEl Monte                   870.0\nEl Segundo                1300.0\nEncino                    1080.0\nGardena                    335.0\nGlendale                   545.0\nGlendora                  1300.0\nHollywood                  550.0\nHuntington Park            550.0\nInglewood                  880.0\nLa Mirada                  820.0\nLa Puente                 1130.0\nLakewood                  1410.0\nLancaster                  810.0\nLawndale                  1402.0\nLomita                    1870.0\nLong Beach                 468.0\nLos Angeles                285.0\nMission Hills              830.0\nMonrovia                  1330.0\nMontebello                1085.0\nNorth Hills                520.0\nNorth Hollywood            550.0\nNorwalk                    820.0\nPacoima                    260.0\nPalmdale                   830.0\nPanorama City              780.0\nPasadena                   810.0\nPico Rivera                280.0\nPomona                     810.0\nSan Fernando              1345.0\nSan Pedro                 1100.0\nSanta Clarita             1820.0\nSanta Fe Springs           815.0\nSherman Oaks              1080.0\nSouth Gate                1060.0\nSunland                   1080.0\nSylmar                     260.0\nTarzana                   1350.0\nTorrance                  1300.0\nVan Nuys                   540.0\nWest Covina                805.0\nWest Hollywood            2435.0\nWhittier                  1080.0\nWilmington                1560.0\nWoodland Hills            1300.0\n"
        }
       ]
      }
     },
     "a54955b98e0f4d8a84a1026e520aaec6": {
      "model_module": "@jupyter-widgets/output",
      "model_module_version": "1.0.0",
      "model_name": "OutputModel",
      "state": {
       "layout": "IPY_MODEL_f42664b3035647d7b8a4177c50b2c443",
       "outputs": [
        {
         "name": "stdout",
         "output_type": "stream",
         "text": "Minimum cost per city, assuming full program cost, no veterans programs\n                  regular_total_cost\nCity                                \nArcadia                       1080.0\nBell                          1345.0\nBellflower                    2695.0\nBeverly Hills                 2600.0\nBurbank                       2155.0\nCanoga Park                   1060.0\nCarson                        1350.0\nCerritos                      1620.0\nChatswoth                     1590.0\nCompton                       1450.0\nCovina                        2130.0\nCulver City                   1350.0\nDiamond Bar                   1060.0\nDowney                        3430.0\nEast Los Angeles              1375.0\nEl Monte                      1300.0\nEl Segundo                    2600.0\nEncino                        1600.0\nGardena                       1375.0\nGlendale                      1325.0\nGlendora                      1300.0\nHollywood                     1330.0\nHuntington Park               1070.0\nInglewood                     1400.0\nLa Mirada                     1340.0\nLa Puente                     1650.0\nLakewood                      1930.0\nLancaster                     1340.0\nLawndale                      2702.0\nLomita                        2390.0\nLong Beach                    1350.0\nLos Angeles                    545.0\nMission Hills                 1350.0\nMonrovia                      5230.0\nMontebello                    1605.0\nNorth Hills                   1040.0\nNorth Hollywood               1070.0\nNorwalk                       1340.0\nPacoima                       1040.0\nPalmdale                      1340.0\nPanorama City                 1060.0\nPasadena                      1350.0\nPico Rivera                   1115.0\nPomona                        1065.0\nSan Fernando                  1345.0\nSan Pedro                     1375.0\nSanta Clarita                 1820.0\nSanta Fe Springs              1335.0\nSherman Oaks                  1600.0\nSouth Gate                    1060.0\nSunland                       1600.0\nSylmar                         540.0\nTarzana                       1350.0\nTorrance                      1345.0\nVan Nuys                       540.0\nWest Covina                   1325.0\nWest Hollywood                2435.0\nWhittier                      1300.0\nWilmington                    2600.0\nWoodland Hills                1300.0\n"
        }
       ]
      }
     },
     "a74eb99025e64cedb1608ad56d308d9b": {
      "model_module": "@jupyter-widgets/base",
      "model_module_version": "1.0.0",
      "model_name": "LayoutModel",
      "state": {}
     },
     "a82e8cf80f7e48fca952c3754d9a444b": {
      "model_module": "@jupyter-widgets/base",
      "model_module_version": "1.0.0",
      "model_name": "LayoutModel",
      "state": {}
     },
     "a83e73acbe65487da73b51aecd419d7f": {
      "model_module": "@jupyter-widgets/controls",
      "model_module_version": "1.0.0",
      "model_name": "VBoxModel",
      "state": {
       "_dom_classes": [
        "widget-interact"
       ],
       "children": [
        "IPY_MODEL_c08f384e970c4bd3b20510061a8b25b5",
        "IPY_MODEL_2174465c4bfc44999a01800a4a81edbd"
       ],
       "layout": "IPY_MODEL_3f12a430ad1148ca8b84949f8d532576"
      }
     },
     "abdab5b4fc7d4335bb6d6d07f55e91a1": {
      "model_module": "@jupyter-widgets/base",
      "model_module_version": "1.0.0",
      "model_name": "LayoutModel",
      "state": {}
     },
     "ac3f6f6bafe5474488d656061fa36973": {
      "model_module": "@jupyter-widgets/base",
      "model_module_version": "1.0.0",
      "model_name": "LayoutModel",
      "state": {}
     },
     "ad8a46b9f25c4472b061206f16704a77": {
      "model_module": "@jupyter-widgets/base",
      "model_module_version": "1.0.0",
      "model_name": "LayoutModel",
      "state": {}
     },
     "ad94a5ed2ab948f3af950622afa82a3b": {
      "model_module": "@jupyter-widgets/controls",
      "model_module_version": "1.0.0",
      "model_name": "VBoxModel",
      "state": {
       "_dom_classes": [
        "widget-interact"
       ],
       "children": [
        "IPY_MODEL_d642c1e3253f469092bd002e063bc048",
        "IPY_MODEL_629c6b15b52e4e32b3f10c7d51707b4b"
       ],
       "layout": "IPY_MODEL_ac3f6f6bafe5474488d656061fa36973"
      }
     },
     "b7d08a64c562409ebff772a8bb05b61e": {
      "model_module": "@jupyter-widgets/base",
      "model_module_version": "1.0.0",
      "model_name": "LayoutModel",
      "state": {}
     },
     "b8557fc3f57448cfb1de859f1c0ab9d4": {
      "model_module": "@jupyter-widgets/controls",
      "model_module_version": "1.0.0",
      "model_name": "VBoxModel",
      "state": {
       "_dom_classes": [
        "widget-interact"
       ],
       "children": [
        "IPY_MODEL_064e4f61d914466c801ea5a3abeedd35",
        "IPY_MODEL_222d4b6b3fa845729880b62dfc18e7ab"
       ],
       "layout": "IPY_MODEL_5fd66eadcb38475f8c7a99aae04f4d96"
      }
     },
     "bc227c59789c42e5a1217af1e557c891": {
      "model_module": "@jupyter-widgets/controls",
      "model_module_version": "1.0.0",
      "model_name": "DropdownModel",
      "state": {
       "_options_labels": [
        "English",
        "Chinese",
        "Spanish",
        "Armenian",
        "Mandarin",
        "Cantonese",
        "Korean",
        "Farsi",
        "Portuguese",
        "ASL",
        "Russian"
       ],
       "description": "language",
       "index": 0,
       "layout": "IPY_MODEL_1a48b534fced43578fd6335b58f5b557",
       "style": "IPY_MODEL_1ffdcbbda1b3434d851a5d4af0c7807d"
      }
     },
     "bd00405a5a5841588aef4b3af47f0308": {
      "model_module": "@jupyter-widgets/output",
      "model_module_version": "1.0.0",
      "model_name": "OutputModel",
      "state": {
       "layout": "IPY_MODEL_c3d33f0e6aaf4c9b80cd22328053bb86",
       "outputs": [
        {
         "name": "stdout",
         "output_type": "stream",
         "text": "                  min_total_cost\nCity                            \nArcadia                    976.0\nBell                      1085.0\nBellflower                1395.0\nBeverly Hills             2496.0\nBurbank                    335.0\nCanoga Park                820.0\nCarson                     820.0\nCerritos                  1100.0\nChatswoth                 1070.0\nCompton                   1450.0\nCovina                    1330.0\nCulver City               1350.0\nDiamond Bar                800.0\nDowney                     310.0\nEast Los Angeles          1038.0\nEl Monte                   870.0\nEl Segundo                1300.0\nEncino                    1080.0\nGardena                    335.0\nGlendale                   545.0\nGlendora                  1300.0\nHollywood                  550.0\nHuntington Park            550.0\nInglewood                  880.0\nLa Mirada                  820.0\nLa Puente                 1130.0\nLakewood                  1410.0\nLancaster                  810.0\nLawndale                  1402.0\nLomita                    1870.0\nLong Beach                 468.0\nLos Angeles                285.0\nMission Hills              830.0\nMonrovia                  1330.0\nMontebello                1085.0\nNorth Hills                520.0\nNorth Hollywood            550.0\nNorwalk                    820.0\nPacoima                    260.0\nPalmdale                   830.0\nPanorama City              780.0\nPasadena                   810.0\nPico Rivera                280.0\nPomona                     810.0\nSan Fernando              1345.0\nSan Pedro                 1100.0\nSanta Clarita             1820.0\nSanta Fe Springs           815.0\nSherman Oaks              1080.0\nSouth Gate                1060.0\nSunland                   1080.0\nSylmar                     260.0\nTarzana                   1350.0\nTorrance                  1300.0\nVan Nuys                   540.0\nWest Covina                805.0\nWest Hollywood            2435.0\nWhittier                  1080.0\nWilmington                1560.0\nWoodland Hills            1300.0\n"
        }
       ]
      }
     },
     "c08f384e970c4bd3b20510061a8b25b5": {
      "model_module": "@jupyter-widgets/controls",
      "model_module_version": "1.0.0",
      "model_name": "DropdownModel",
      "state": {
       "_options_labels": [
        "English",
        "Chinese",
        "Spanish",
        "Armenian",
        "Mandarin",
        "Cantonese",
        "Korean",
        "Farsi",
        "Portuguese",
        "ASL",
        "Russian"
       ],
       "description": "language",
       "index": 6,
       "layout": "IPY_MODEL_e1e113f5e3274d6d898a45da375073ce",
       "style": "IPY_MODEL_f35f12a6e8e040ebabe7fa14abfe2e3a"
      }
     },
     "c3772f790ee044deb3f63e564f9b0a05": {
      "model_module": "@jupyter-widgets/base",
      "model_module_version": "1.0.0",
      "model_name": "LayoutModel",
      "state": {}
     },
     "c3d33f0e6aaf4c9b80cd22328053bb86": {
      "model_module": "@jupyter-widgets/base",
      "model_module_version": "1.0.0",
      "model_name": "LayoutModel",
      "state": {}
     },
     "ccf8a715739949649f705d93a08199b6": {
      "model_module": "@jupyter-widgets/controls",
      "model_module_version": "1.0.0",
      "model_name": "DescriptionStyleModel",
      "state": {
       "description_width": ""
      }
     },
     "cd15b5ebef08426cae93cf9cd91aa030": {
      "model_module": "@jupyter-widgets/controls",
      "model_module_version": "1.0.0",
      "model_name": "VBoxModel",
      "state": {
       "_dom_classes": [
        "widget-interact"
       ],
       "children": [
        "IPY_MODEL_e428b0488fda43d9914ca17ced301434",
        "IPY_MODEL_3c514b5827ea4a058193efc647e1b9ea"
       ],
       "layout": "IPY_MODEL_3a3c39610d494704a6165a4aa3046365"
      }
     },
     "cead64ec5de3459b98014c00cdeb15fa": {
      "model_module": "@jupyter-widgets/controls",
      "model_module_version": "1.0.0",
      "model_name": "DropdownModel",
      "state": {
       "_options_labels": [
        "English",
        "Chinese",
        "Spanish",
        "Armenian",
        "Mandarin",
        "Cantonese",
        "Korean",
        "Farsi",
        "Portuguese",
        "ASL",
        "Russian"
       ],
       "description": "language",
       "index": 4,
       "layout": "IPY_MODEL_5c062bf6a91f4fcdbdc55cc9c53475ec",
       "style": "IPY_MODEL_0b0dbeac663543acafb294e3cce98b50"
      }
     },
     "d0a08f5b0ad9430faf14a599bb57a57c": {
      "model_module": "@jupyter-widgets/base",
      "model_module_version": "1.0.0",
      "model_name": "LayoutModel",
      "state": {}
     },
     "d1d8e6776d9445beb8317911ae63f9fa": {
      "model_module": "@jupyter-widgets/controls",
      "model_module_version": "1.0.0",
      "model_name": "DropdownModel",
      "state": {
       "_options_labels": [
        "English",
        "Chinese",
        "Spanish",
        "Armenian",
        "Mandarin",
        "Cantonese",
        "Korean",
        "Farsi",
        "Portuguese",
        "ASL",
        "Russian"
       ],
       "description": "language",
       "index": 0,
       "layout": "IPY_MODEL_569b4550a2b7491daf3769895c5b7bbc",
       "style": "IPY_MODEL_2c20dd23edd24ef7a150bd8722a8ce5b"
      }
     },
     "d38bc7febe564086b7bf34bfe8d685d5": {
      "model_module": "@jupyter-widgets/controls",
      "model_module_version": "1.0.0",
      "model_name": "VBoxModel",
      "state": {
       "_dom_classes": [
        "widget-interact"
       ],
       "children": [
        "IPY_MODEL_cead64ec5de3459b98014c00cdeb15fa",
        "IPY_MODEL_e6e8f04db67f4081b98c1aabd0ecbb1b"
       ],
       "layout": "IPY_MODEL_e4380c9d578e4f2fa76d633d9dc654df"
      }
     },
     "d4221e193adb43509a7da595472e8ea9": {
      "model_module": "@jupyter-widgets/controls",
      "model_module_version": "1.0.0",
      "model_name": "DescriptionStyleModel",
      "state": {
       "description_width": ""
      }
     },
     "d56f929e261e4c30a1809c020735063a": {
      "model_module": "@jupyter-widgets/base",
      "model_module_version": "1.0.0",
      "model_name": "LayoutModel",
      "state": {}
     },
     "d642c1e3253f469092bd002e063bc048": {
      "model_module": "@jupyter-widgets/controls",
      "model_module_version": "1.0.0",
      "model_name": "DropdownModel",
      "state": {
       "_options_labels": [
        "English",
        "Chinese",
        "Spanish",
        "Armenian",
        "Mandarin",
        "Cantonese",
        "Korean",
        "Farsi",
        "Portuguese",
        "ASL",
        "Russian"
       ],
       "description": "language",
       "index": 0,
       "layout": "IPY_MODEL_7f1eaecb568a4d6e8f93f9994127e58f",
       "style": "IPY_MODEL_007eb4cb990f4aa683455ca67ecac6ce"
      }
     },
     "d7343b233db4470d88415da54fea08a1": {
      "model_module": "@jupyter-widgets/output",
      "model_module_version": "1.0.0",
      "model_name": "OutputModel",
      "state": {
       "layout": "IPY_MODEL_9b98580db9f24919baf2ad3b2902302f",
       "outputs": [
        {
         "name": "stdout",
         "output_type": "stream",
         "text": "                  regular_total_cost\nCity                                \nArcadia                      1080.00\nBell                         1345.00\nBellflower                   2695.00\nBeverly Hills                2600.00\nBurbank                      2155.00\nCanoga Park                  1200.00\nCarson                       1371.00\nCerritos                     1620.00\nChatswoth                    1590.00\nCompton                      1450.00\nCovina                       3680.00\nCulver City                  1417.00\nDiamond Bar                  1060.00\nDowney                       3430.00\nEast Los Angeles             1674.50\nEl Monte                     1797.50\nEl Segundo                   2600.00\nEncino                       1600.00\nGardena                      2030.00\nGlendale                     1585.00\nGlendora                     1300.00\nHollywood                    1330.00\nHuntington Park              1240.00\nInglewood                    4391.67\nLa Mirada                    1340.00\nLa Puente                    1650.00\nLakewood                     1930.00\nLancaster                    1350.00\nLawndale                     2702.00\nLomita                       2390.00\nLong Beach                   1779.17\nLos Angeles                  1877.70\nMission Hills                1350.00\nMonrovia                     5230.00\nMontebello                   2471.67\nNorth Hills                  1040.00\nNorth Hollywood              1155.00\nNorwalk                      2120.00\nPacoima                      1182.50\nPalmdale                     1345.00\nPanorama City                1060.00\nPasadena                     1350.00\nPico Rivera                  1115.00\nPomona                       1197.50\nSan Fernando                 1467.50\nSan Pedro                    1497.50\nSanta Clarita                1852.50\nSanta Fe Springs             1467.50\nSherman Oaks                 1605.00\nSouth Gate                   1060.00\nSunland                      1600.00\nSylmar                        790.00\nTarzana                      1350.00\nTorrance                     1972.50\nVan Nuys                      977.50\nWest Covina                  1931.67\nWest Hollywood               2770.83\nWhittier                     1320.00\nWilmington                   2600.00\nWoodland Hills               1300.00\n"
        }
       ]
      }
     },
     "d78703432d574617b91233979869642a": {
      "model_module": "@jupyter-widgets/controls",
      "model_module_version": "1.0.0",
      "model_name": "VBoxModel",
      "state": {
       "_dom_classes": [
        "widget-interact"
       ],
       "children": [
        "IPY_MODEL_7f11744ca74b477291af5cb90cdc4f1c",
        "IPY_MODEL_d9a26e59472a4b3a93f5b68c8d900b1e"
       ],
       "layout": "IPY_MODEL_183171b716b24613a999a876a6ac5394"
      }
     },
     "d8b0e0c901824f159dbc805e67e677ab": {
      "model_module": "@jupyter-widgets/base",
      "model_module_version": "1.0.0",
      "model_name": "LayoutModel",
      "state": {}
     },
     "d937274701dd40e5abcad46fe85fb62c": {
      "model_module": "@jupyter-widgets/base",
      "model_module_version": "1.0.0",
      "model_name": "LayoutModel",
      "state": {}
     },
     "d9a26e59472a4b3a93f5b68c8d900b1e": {
      "model_module": "@jupyter-widgets/output",
      "model_module_version": "1.0.0",
      "model_name": "OutputModel",
      "state": {
       "layout": "IPY_MODEL_8b40fbad4a97431cbca0110ac50f00c4",
       "outputs": [
        {
         "name": "stdout",
         "output_type": "stream",
         "text": "Absolute minimum cost per city, no veterans programs\n                  min_total_cost\nCity                            \nArcadia                    976.0\nBell                      1085.0\nBellflower                1395.0\nBeverly Hills             2496.0\nBurbank                    335.0\nCanoga Park                820.0\nCarson                     820.0\nCerritos                  1100.0\nChatswoth                 1070.0\nCompton                   1450.0\nCovina                    1330.0\nCulver City               1350.0\nDiamond Bar                800.0\nDowney                     310.0\nEast Los Angeles          1038.0\nEl Monte                   870.0\nEl Segundo                1300.0\nEncino                    1080.0\nGardena                    335.0\nGlendale                   545.0\nGlendora                  1300.0\nHollywood                  550.0\nHuntington Park            550.0\nInglewood                  880.0\nLa Mirada                  820.0\nLa Puente                 1130.0\nLakewood                  1410.0\nLancaster                  810.0\nLawndale                  1402.0\nLomita                    1870.0\nLong Beach                 468.0\nLos Angeles                285.0\nMission Hills              830.0\nMonrovia                  1330.0\nMontebello                1085.0\nNorth Hills                520.0\nNorth Hollywood            550.0\nNorwalk                    820.0\nPacoima                    260.0\nPalmdale                   830.0\nPanorama City              780.0\nPasadena                   810.0\nPico Rivera                280.0\nPomona                     810.0\nSan Fernando              1345.0\nSan Pedro                 1100.0\nSanta Clarita             1820.0\nSanta Fe Springs           815.0\nSherman Oaks              1080.0\nSouth Gate                1060.0\nSunland                   1080.0\nSylmar                     260.0\nTarzana                   1350.0\nTorrance                  1300.0\nVan Nuys                   540.0\nWest Covina                805.0\nWest Hollywood            2435.0\nWhittier                  1080.0\nWilmington                1560.0\nWoodland Hills            1300.0\n"
        }
       ]
      }
     },
     "dc974d833d004b209320a97e294bf7ba": {
      "model_module": "@jupyter-widgets/output",
      "model_module_version": "1.0.0",
      "model_name": "OutputModel",
      "state": {
       "layout": "IPY_MODEL_f5cf92fabe6e4b639a2bd98cba4bad2a",
       "outputs": [
        {
         "name": "stdout",
         "output_type": "stream",
         "text": "Absolute minimum cost per city\n                  min_total_cost\nCity                            \nBell                      1085.0\nBurbank                    335.0\nCanoga Park                820.0\nCarson                    1090.0\nCerritos                  1620.0\nCulver City               1350.0\nEast Los Angeles          1038.0\nEl Monte                   870.0\nEncino                    1080.0\nGardena                     75.0\nGlendora                  1300.0\nHollywood                  550.0\nHuntington Park            550.0\nInglewood                 1585.0\nLa Puente                 1130.0\nLancaster                 1340.0\nLawndale                  1402.0\nLong Beach                 570.0\nLos Angeles                570.0\nMission Hills              830.0\nMonrovia                  1330.0\nMontebello                1090.0\nNorth Hollywood           1325.0\nNorwalk                   1340.0\nPacoima                    260.0\nPalmdale                  1340.0\nPanorama City              780.0\nPasadena                   810.0\nPico Rivera                280.0\nPomona                     810.0\nSan Fernando              1345.0\nSan Pedro                 1100.0\nSanta Clarita             1820.0\nSanta Fe Springs           815.0\nSherman Oaks              1080.0\nSouth Gate                1060.0\nSunland                   1080.0\nSylmar                     540.0\nVan Nuys                  1340.0\nWest Covina                805.0\nWest Hollywood            2662.5\nWhittier                  1080.0\nWilmington                1560.0\n"
        }
       ]
      }
     },
     "e0720192733148508b48181d48ed6dcb": {
      "model_module": "@jupyter-widgets/controls",
      "model_module_version": "1.0.0",
      "model_name": "DropdownModel",
      "state": {
       "_options_labels": [
        "English",
        "Chinese",
        "Spanish",
        "Armenian",
        "Mandarin",
        "Cantonese",
        "Korean",
        "Farsi",
        "Portuguese",
        "ASL",
        "Russian"
       ],
       "description": "language",
       "index": 0,
       "layout": "IPY_MODEL_abdab5b4fc7d4335bb6d6d07f55e91a1",
       "style": "IPY_MODEL_466a74bbd70f4d38bb00ee57f12eb711"
      }
     },
     "e1e113f5e3274d6d898a45da375073ce": {
      "model_module": "@jupyter-widgets/base",
      "model_module_version": "1.0.0",
      "model_name": "LayoutModel",
      "state": {}
     },
     "e3a483fcdef340ff8cbeaed8754114a9": {
      "model_module": "@jupyter-widgets/controls",
      "model_module_version": "1.0.0",
      "model_name": "VBoxModel",
      "state": {
       "_dom_classes": [
        "widget-interact"
       ],
       "children": [
        "IPY_MODEL_7a70730f484943ab86848d077e0b7763",
        "IPY_MODEL_5686714cde194f389f2d7ee7814f9c92"
       ],
       "layout": "IPY_MODEL_d56f929e261e4c30a1809c020735063a"
      }
     },
     "e428b0488fda43d9914ca17ced301434": {
      "model_module": "@jupyter-widgets/controls",
      "model_module_version": "1.0.0",
      "model_name": "DropdownModel",
      "state": {
       "_options_labels": [
        "English",
        "Chinese",
        "Spanish",
        "Armenian",
        "Mandarin",
        "Cantonese",
        "Korean",
        "Farsi",
        "Portuguese",
        "ASL",
        "Russian"
       ],
       "description": "language",
       "index": 2,
       "layout": "IPY_MODEL_57f3c9dd5b644f01a26709bdb75b8b42",
       "style": "IPY_MODEL_d4221e193adb43509a7da595472e8ea9"
      }
     },
     "e4380c9d578e4f2fa76d633d9dc654df": {
      "model_module": "@jupyter-widgets/base",
      "model_module_version": "1.0.0",
      "model_name": "LayoutModel",
      "state": {}
     },
     "e43e677ede5a44d2a3fc6b26134f85cb": {
      "model_module": "@jupyter-widgets/base",
      "model_module_version": "1.0.0",
      "model_name": "LayoutModel",
      "state": {}
     },
     "e6e8f04db67f4081b98c1aabd0ecbb1b": {
      "model_module": "@jupyter-widgets/output",
      "model_module_version": "1.0.0",
      "model_name": "OutputModel",
      "state": {
       "layout": "IPY_MODEL_7fa94bb5d69145b1ac07a99e18ca9b10",
       "outputs": [
        {
         "name": "stdout",
         "output_type": "stream",
         "text": "Average cost per city, assuming full program cost, no veterans programs\n        regular_total_cost\nCity                      \nCovina              3430.0\n"
        }
       ]
      }
     },
     "e96c722264b346c58d79a39e97a7de75": {
      "model_module": "@jupyter-widgets/base",
      "model_module_version": "1.0.0",
      "model_name": "LayoutModel",
      "state": {}
     },
     "f19f844c6e0b48a8b0dd177c27dad446": {
      "model_module": "@jupyter-widgets/controls",
      "model_module_version": "1.0.0",
      "model_name": "DescriptionStyleModel",
      "state": {
       "description_width": ""
      }
     },
     "f35f12a6e8e040ebabe7fa14abfe2e3a": {
      "model_module": "@jupyter-widgets/controls",
      "model_module_version": "1.0.0",
      "model_name": "DescriptionStyleModel",
      "state": {
       "description_width": ""
      }
     },
     "f3bd1c65a0e7474aaf17c6d3bf4e4014": {
      "model_module": "@jupyter-widgets/base",
      "model_module_version": "1.0.0",
      "model_name": "LayoutModel",
      "state": {}
     },
     "f42664b3035647d7b8a4177c50b2c443": {
      "model_module": "@jupyter-widgets/base",
      "model_module_version": "1.0.0",
      "model_name": "LayoutModel",
      "state": {}
     },
     "f5cf92fabe6e4b639a2bd98cba4bad2a": {
      "model_module": "@jupyter-widgets/base",
      "model_module_version": "1.0.0",
      "model_name": "LayoutModel",
      "state": {}
     },
     "f8b9fec888624e1bb810e54f0d2b8ce4": {
      "model_module": "@jupyter-widgets/controls",
      "model_module_version": "1.0.0",
      "model_name": "DropdownModel",
      "state": {
       "_options_labels": [
        "English",
        "Chinese",
        "Spanish",
        "Armenian",
        "Mandarin",
        "Cantonese",
        "Korean",
        "Farsi",
        "Portuguese",
        "ASL",
        "Russian"
       ],
       "description": "language",
       "index": 0,
       "layout": "IPY_MODEL_5ed27b6c81d649efabd17b635a938f6c",
       "style": "IPY_MODEL_ccf8a715739949649f705d93a08199b6"
      }
     },
     "f8c18753a1ab4359b2f19f336b8715d8": {
      "model_module": "@jupyter-widgets/base",
      "model_module_version": "1.0.0",
      "model_name": "LayoutModel",
      "state": {}
     }
    },
    "version_major": 2,
    "version_minor": 0
   }
  }
 },
 "nbformat": 4,
 "nbformat_minor": 2
}
